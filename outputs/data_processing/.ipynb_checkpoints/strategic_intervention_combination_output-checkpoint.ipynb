{
 "cells": [
  {
   "cell_type": "code",
   "execution_count": 1,
   "metadata": {
    "collapsed": true
   },
   "outputs": [],
   "source": [
    "# import functions \n",
    "import pandas as pd\n",
    "import matplotlib.pyplot as plt\n",
    "import xarray as xr\n",
    "import glob\n",
    "import numpy as np\n",
    "import geopandas as gpd\n",
    "from shapely.geometry import Point\n",
    "from pylab import MaxNLocator\n",
    "import rioxarray\n",
    "from shapely.geometry import Point\n",
    "from shapely.geometry import mapping"
   ]
  },
  {
   "cell_type": "code",
   "execution_count": 2,
   "metadata": {
    "collapsed": true
   },
   "outputs": [],
   "source": [
    "def geo_idx(dd, dd_array):\n",
    "   \"\"\"\n",
    "     search for nearest decimal degree in an array of decimal degrees and return the index.\n",
    "     np.argmin returns the indices of minium value along an axis.\n",
    "     so subtract dd from all values in dd_array, take absolute value and find index of minium.\n",
    "    \"\"\"\n",
    "   geo_idx = (np.abs(dd_array - dd)).argmin()\n",
    "   return geo_idx"
   ]
  },
  {
   "cell_type": "code",
   "execution_count": 3,
   "metadata": {
    "collapsed": true
   },
   "outputs": [],
   "source": [
    "#!/usr/bin/env python3\n",
    "# -*- coding: utf-8 -*-\n",
    "\n",
    "from multiprocessing import Pool\n",
    "from inspect import signature\n",
    "\n",
    "#--------------------------------------------------------------\n",
    "# @profile\n",
    "def parallel(function, it, nbrCores, noInteract=False):\n",
    "    #evaluates in parallel all the results, not lazy\n",
    "\n",
    "    #disable interactive window for plots, also kills existing figures\n",
    "    if noInteract: plt.switch_backend('Agg')\n",
    "\n",
    "    #generate pool of workers\n",
    "    with Pool(processes = nbrCores) as pool:\n",
    "\n",
    "        #single argument for function\n",
    "        if len(signature(function).parameters)==1:\n",
    "            results = pool.map(function, it)\n",
    "\n",
    "        #mutliple arguments for function\n",
    "        else:\n",
    "            results = pool.starmap(function, it)\n",
    "\n",
    "    #kill all processes\n",
    "    pool.close()\n",
    "    pool.join()\n",
    "\n",
    "    #re enable interactive window for plots\n",
    "    if noInteract: \n",
    "        try: plt.switch_backend('Qt5Agg')\n",
    "        except ImportError: pass   #pass if non-interactive shell \n",
    "\n",
    "    if type(results[0])==tuple:\n",
    "       \n",
    "        return (np.asarray(r) for r in zip(*results)) \n",
    "    #convert directly to numpy array, merge each proc times\n",
    "    else:\n",
    "        return np.asarray(results)\n",
    "\n",
    "\n",
    "#--------------------------------------------------------------\n",
    "def distrib_task(begin, end, division) :\n",
    "\n",
    "    #job distribution\n",
    "    size   = end - begin + 1    #total number of indexes\n",
    "    segm   = size // division   #number of iteration to perform per division\n",
    "    remain = size % division    #remaining indexes to calculate after division\n",
    "\n",
    "    #handles case if less time elements than division\n",
    "    if segm == 0: division = remain\n",
    "\n",
    "    #initialization\n",
    "    lower = begin\n",
    "    jobs = [None]*division\n",
    "\n",
    "    #loop over divisions\n",
    "    for i in range(division):\n",
    "\n",
    "        #distribute indexes into the divisions, accounting for remaining loops\n",
    "        upper = lower + segm    #upper index\n",
    "        if remain > 0:\n",
    "            upper  += 1      #added +1 if additional index to process\n",
    "            remain -= 1      #keep track of the remaining loops to distribute\n",
    "\n",
    "        jobs[i] = slice(lower,upper,1)\n",
    "        lower = upper             #next pair lower index\n",
    "        #next division\n",
    "\n",
    "    return jobs"
   ]
  },
  {
   "cell_type": "code",
   "execution_count": 4,
   "metadata": {
    "collapsed": true
   },
   "outputs": [],
   "source": [
    "from rich import print\n",
    "import pandas as pd\n",
    "from datetime import datetime\n",
    "from xlsx2csv import Xlsx2csv\n",
    "from io import StringIO\n",
    "\n",
    "def timer(name, startTime = None):\n",
    "    if startTime:\n",
    "        print(f\"Timer: Elapsed time for [{name}]: {datetime.now() - startTime}\")\n",
    "    else:\n",
    "        startTime = datetime.now()\n",
    "        print(f\"Timer: Starting [{name}] at {startTime}\")\n",
    "        return startTime\n",
    "\n",
    "\n",
    "def read_excel(path: str, sheet_index: int) -> pd.DataFrame:\n",
    "    print(path)\n",
    "    buffer = StringIO()\n",
    "    Xlsx2csv(path, outputencoding=\"utf-8\").convert(buffer,sheetid=sheet_index)\n",
    "    buffer.seek(0)\n",
    "    df = pd.read_csv(buffer,low_memory=False)\n",
    "    return df"
   ]
  },
  {
   "cell_type": "code",
   "execution_count": 5,
   "metadata": {
    "collapsed": true
   },
   "outputs": [],
   "source": [
    "%matplotlib inline"
   ]
  },
  {
   "cell_type": "code",
   "execution_count": 6,
   "metadata": {
    "collapsed": true
   },
   "outputs": [],
   "source": [
    "def natural_keys_urban(text):\n",
    "    start = text.split('w_')[-1].index('t')\n",
    "    end  = text.split('w_')[-1].index('_')\n",
    "    mo = text.split('w_')[-1][start+1:end]\n",
    "    year = text.split('w_')[-1][-4]\n",
    "    return int(year)*12+int(mo)\n",
    "def natural_keys(text):\n",
    "    start = text.split('_y')[-1].index('t')\n",
    "    end  = text.split('_y')[-1].index('/')\n",
    "    mo = text.split('_y')[-1][start+1:end]\n",
    "    year = text.split('_y')[-1][0]\n",
    "    return int(year)*12+int(mo)\n",
    "def natural_keys_ag(text):\n",
    "    start = text.split('w_')[-1].index('m')\n",
    "    end  = text.split('w_')[-1].index('_')\n",
    "    mo = text.split('w_')[-1][start+1:end]\n",
    "    year = text.split('w_')[-1][-4]\n",
    "    return int(year)*12+int(mo)"
   ]
  },
  {
   "cell_type": "code",
   "execution_count": 7,
   "metadata": {
    "collapsed": true
   },
   "outputs": [],
   "source": [
    "# basepath = r'/oak/stanford/groups/gorelick/bhima_08262024'\n",
    "basepath = r\"/scratch/users/awan005/bhima_mas_code\""
   ]
  },
  {
   "cell_type": "code",
   "execution_count": 15,
   "metadata": {
    "collapsed": true
   },
   "outputs": [],
   "source": [
    "file_path1 = basepath + r\"/outputs/data_raw/sixyears_synergy/hydro_outputs_scenario1\"\n",
    "file_path2 = basepath + r\"/outputs/data_raw/sixyears_synergy/hydro_outputs_scenario3\"\n",
    "file_path3 = basepath + r\"/outputs/data_raw/sixyears_synergy/hydro_outputs_scenario2\"\n",
    "file_path4 = basepath + r\"/outputs/data_raw/sixyears_synergy/hydro_outputs_scenario4\""
   ]
  },
  {
   "cell_type": "code",
   "execution_count": 16,
   "metadata": {
    "collapsed": true
   },
   "outputs": [],
   "source": [
    "sim = ['agphys','agsupplyphys']"
   ]
  },
  {
   "cell_type": "code",
   "execution_count": 17,
   "metadata": {
    "collapsed": true
   },
   "outputs": [],
   "source": [
    "baseoutput_tt = []\n",
    "NonIrr_GW_path_tt = []\n",
    "NonIrr_Res_path_tt = []\n",
    "NonIrr_Lake_path_tt = []\n",
    "planning_output_mo_gw_path_tt = []\n",
    "planning_output_mo_sw_path_tt = []\n",
    "\n",
    "\n",
    "for k in range(0,len(sim),1):\n",
    "    for file_path in [file_path1,file_path2,file_path3,file_path4]:\n",
    "        baseoutput = glob.glob(file_path + '_' + sim[k]+ \"/implementation*/implementation_human_outputs.xlsx\")\n",
    "        NonIrr_GW_path = glob.glob(file_path + '_' + sim[k] + r\"/final_y*/GW_Domestic_daily.nc\")\n",
    "        NonIrr_Res_path = glob.glob(file_path + '_' + sim[k] + r\"/final_y*/Res_Domestic_daily.nc\")\n",
    "        NonIrr_Lake_path = glob.glob(file_path + '_' + sim[k] + r\"/final_y*/Lake_Domestic_daily.nc\")\n",
    "        planning_output_mo_gw_path = glob.glob(file_path + '_' + sim[k]+ \n",
    "                                               r'/urban_to_hydro/urban_CWatM_implementation_gw_t*.nc')\n",
    "        planning_output_mo_sw_path = glob.glob(file_path + '_' + sim[k]+ \n",
    "                                               r'/urban_to_hydro/urban_CWatM_implementation_sw_t*.nc')\n",
    "\n",
    "        baseoutput.sort(key=natural_keys)\n",
    "        NonIrr_GW_path.sort(key=natural_keys)\n",
    "        NonIrr_Res_path.sort(key=natural_keys)\n",
    "        NonIrr_Lake_path.sort(key=natural_keys)\n",
    "        planning_output_mo_gw_path.sort(key=natural_keys_urban)\n",
    "        planning_output_mo_sw_path.sort(key=natural_keys_urban)\n",
    "\n",
    "        baseoutput_tt += baseoutput[:36]\n",
    "        NonIrr_GW_path_tt+=NonIrr_GW_path[:36]\n",
    "        NonIrr_Res_path_tt+=NonIrr_Res_path[:36]\n",
    "        NonIrr_Lake_path_tt+=NonIrr_Lake_path[:36]\n",
    "        planning_output_mo_gw_path_tt+=planning_output_mo_gw_path[:36]\n",
    "        planning_output_mo_sw_path_tt+=planning_output_mo_sw_path[:36]"
   ]
  },
  {
   "cell_type": "code",
   "execution_count": 18,
   "metadata": {},
   "outputs": [
    {
     "data": {
      "text/plain": [
       "6.0"
      ]
     },
     "execution_count": 18,
     "metadata": {},
     "output_type": "execute_result"
    }
   ],
   "source": [
    "len(baseoutput_tt)/36/4"
   ]
  },
  {
   "cell_type": "code",
   "execution_count": 19,
   "metadata": {},
   "outputs": [
    {
     "data": {
      "text/html": [
       "<pre style=\"white-space:pre;overflow-x:auto;line-height:normal;font-family:Menlo,'DejaVu Sans Mono',consolas,'Courier New',monospace\"><span style=\"color: #00ff00; text-decoration-color: #00ff00; font-style: italic\">True</span>\n",
       "</pre>\n"
      ],
      "text/plain": [
       "\u001b[3;92mTrue\u001b[0m\n"
      ]
     },
     "metadata": {},
     "output_type": "display_data"
    }
   ],
   "source": [
    "print(len(baseoutput_tt)==len(NonIrr_GW_path_tt)==len(NonIrr_Res_path_tt)==len(NonIrr_Lake_path_tt)==len(planning_output_mo_gw_path_tt)==len(planning_output_mo_sw_path_tt))"
   ]
  },
  {
   "cell_type": "code",
   "execution_count": 20,
   "metadata": {
    "collapsed": true
   },
   "outputs": [],
   "source": [
    "import psutil"
   ]
  },
  {
   "cell_type": "code",
   "execution_count": 21,
   "metadata": {},
   "outputs": [
    {
     "data": {
      "text/html": [
       "<pre style=\"white-space:pre;overflow-x:auto;line-height:normal;font-family:Menlo,'DejaVu Sans Mono',consolas,'Courier New',monospace\"><span style=\"color: #008080; text-decoration-color: #008080; font-weight: bold\">64</span>\n",
       "</pre>\n"
      ],
      "text/plain": [
       "\u001b[1;36m64\u001b[0m\n"
      ]
     },
     "metadata": {},
     "output_type": "display_data"
    }
   ],
   "source": [
    "nbrCores = 64 #psutil.cpu_count(logical=False)\n",
    "\n",
    "jobs = distrib_task(0,len(baseoutput_tt)-1,nbrCores)\n",
    "print(nbrCores)\n",
    "it = ((j,1) for j in baseoutput_tt)\n",
    "it2 = ((j,2) for j in baseoutput_tt)\n",
    "\n",
    "out_total = parallel(read_excel,it,nbrCores)\n",
    "out_hh = parallel(read_excel,it2,nbrCores)"
   ]
  },
  {
   "cell_type": "code",
   "execution_count": 22,
   "metadata": {
    "collapsed": true
   },
   "outputs": [],
   "source": [
    "def urban_cwatm_ratio(i):\n",
    "\n",
    "    print(NonIrr_GW_path_tt[i])\n",
    "    NonIrr_GW_nc = xr.open_dataarray(NonIrr_GW_path_tt[i])[:-1]\n",
    "    merger = xr.merge([NonIrr_GW_nc, cellarea], join='override')\n",
    "    cwatm_gw = merger.to_dataframe().reset_index()\n",
    "    cwatm_gw['gw'] = cwatm_gw.GW_Domestic * cwatm_gw.cellArea_totalend\n",
    "    cwatm_gw = cwatm_gw.groupby(['lat','lon']).sum().reset_index().round(\n",
    "        {'lon': 4, 'lat': 4}) \n",
    "    gw_cwatm_average=cwatm_gw['gw'].sum()*1e-6\n",
    "    \n",
    "    ### urban groundwater non-irr use\n",
    "    print(planning_output_mo_gw_path_tt[i])\n",
    "    gw_nc = xr.open_dataarray(planning_output_mo_gw_path_tt[i])\n",
    "    gw = gw_nc.to_dataframe().reset_index().round({'lon': 4, 'lat': 4})\n",
    "    gw.replace([np.inf, -np.inf], np.nan, inplace=True)\n",
    "    gw = gw.fillna(0)\n",
    "    merge_df = adminsegs_df.merge(gw,on=['lat','lon'])\n",
    "    gw_average=merge_df.groupby('adminSegments_totalend').sum().sum()[-1]*1e-6\n",
    "    \n",
    "    ### cwatm over urban gw ratio\n",
    "    urban_cwatm_gw = gw.merge(cwatm_gw[['lat','lon','gw']], on=['lat','lon']).reset_index()\n",
    "    urban_cwatm_gw = urban_cwatm_gw.rename(columns={'lat':'y','lon':'x'})\n",
    "    urban_cwatm_gw['ratio_gw'] = urban_cwatm_gw['gw']/urban_cwatm_gw['gw_m3']\n",
    "    urban_cwatm_gw['ratio_gw'] = urban_cwatm_gw['ratio_gw'].fillna(0)\n",
    "    \n",
    "    ### cwatm res water non-irr use\n",
    "    print(NonIrr_Res_path_tt[i])\n",
    "    NonIrr_Res_nc = xr.open_dataarray(NonIrr_Res_path_tt[i])[:-1]\n",
    "    merger = xr.merge([NonIrr_Res_nc, cellarea], join='override')\n",
    "    cwatm_res = merger.to_dataframe().reset_index()\n",
    "    cwatm_res['res'] = cwatm_res.Res_Domestic * cwatm_res.cellArea_totalend\n",
    "    cwatm_res = cwatm_res.groupby(['lat','lon']).sum().reset_index().round(\n",
    "        {'lon': 4, 'lat': 4})\n",
    "    res_cwatm_average=cwatm_res['res'].sum()*1e-6\n",
    "    \n",
    "    ### urban lake water non-irr use\n",
    "    print(NonIrr_Lake_path_tt[i])\n",
    "    NonIrr_Lake_nc = xr.open_dataarray(NonIrr_Lake_path_tt[i])[:-1]\n",
    "    merger = xr.merge([NonIrr_Lake_nc, cellarea], join='override')\n",
    "    cwatm_lake = merger.to_dataframe().reset_index()\n",
    "    cwatm_lake['lake'] = cwatm_lake.Lake_Domestic * cwatm_lake.cellArea_totalend\n",
    "    cwatm_lake = cwatm_lake.groupby(['lat','lon']).sum().reset_index().round(\n",
    "        {'lon': 4, 'lat': 4}) \n",
    "    lake_cwatm_average=cwatm_lake['lake'].sum()*1e-6\n",
    "    \n",
    "    ### urban res and lake water non-irr use\n",
    "    cwatm_lake_sw = cwatm_lake.merge(cwatm_res, on=['lat','lon'])\n",
    "    cwatm_lake_sw['sw']= cwatm_lake_sw['res']+ cwatm_lake_sw['lake']\n",
    "    \n",
    "    ### urban surface water non-irr use\n",
    "    print(planning_output_mo_sw_path_tt[i])\n",
    "    sw_nc = xr.open_dataarray(planning_output_mo_sw_path_tt[i])\n",
    "    sw = sw_nc.to_dataframe().reset_index().round({'lon': 4, 'lat': 4})\n",
    "    sw.replace([np.inf, -np.inf], np.nan, inplace=True)\n",
    "    sw = sw.fillna(0)\n",
    "    merge_df = adminsegs_df.merge(sw,on=['lat','lon'])\n",
    "    sw_average=merge_df.groupby('adminSegments_totalend').sum().sum()[-1]*1e-6\n",
    "    \n",
    "    ### cwatm over urban sw ratio\n",
    "    urban_cwatm = sw.merge(cwatm_lake_sw[['lat','lon','sw']], on=['lat','lon']).reset_index()\n",
    "    urban_cwatm = urban_cwatm.rename(columns={'lat':'y','lon':'x'})\n",
    "    urban_cwatm['ratio'] = urban_cwatm['sw']/urban_cwatm['sw_m3']\n",
    "    \n",
    "    df_hh = pd.DataFrame(out_hh[i],columns=[\"x\", \"y\", \"units\", \"size\", \"income\",\"piped_m3/mo\", \"well_m3/mo\", \"tanker_m3/mo\",\"tanker_tier2_m3/mo\",\n",
    "                     \"electr_kWh/mo\", \"food_INR/mo\", \"electr_for_water_kWh/mo\",\n",
    "                     \"total_water_m3/mo\", \"non_piped_m3/mo\", \"non_piped_percent\",\n",
    "                     \"electr_for_water_per_unit\", \"piped_per_unit\", \"well_per_unit\",\n",
    "                     \"non_piped_per_unit\", \"non_piped_pct_per_unit\", \"total_water_per_unit\",\n",
    "                     \"piped_expenditure_per_unit\", \"well_expenditure_per_unit\",\n",
    "                     \"tanker_expenditure_per_unit\",\"tanker_tier2_expenditure_per_unit\", \"expenditure_per_unit\",\n",
    "                     \"electricity price\", \"electricity expenditure\",\"well type\"])\n",
    "    \n",
    "    slum_factor = 0.288614\n",
    "    df_hh.loc[range(0,df_hh.shape[0]-1,2),'hh_income'] = df_hh.loc[range(0,df_hh.shape[0]-1,2),'income']\n",
    "    df_hh.loc[range(1,df_hh.shape[0],2),'hh_income'] = df_hh.loc[range(1,df_hh.shape[0],2),'income'] * slum_factor \n",
    "    \n",
    "    df_hh.loc[range(0,df_hh.shape[0]-1,2),'category'] = 1 # represent household \n",
    "    df_hh.loc[range(1,df_hh.shape[0],2),'category'] = 2 # represent slum household\n",
    "    \n",
    "    df_hh['units_size'] = df_hh['units'] * df_hh['size']\n",
    "    df_hh['income_pp'] = df_hh['hh_income']/df_hh['size']\n",
    "    \n",
    "    ### combine household dataframe with piped water ratio\n",
    "    piped_hh = df_hh.round({'x': 4, 'y': 4}).merge(urban_cwatm, on =['x','y'])\n",
    "    piped_hh['geometry']= piped_hh.apply(lambda row: Point(row[\"x\"], row[\"y\"]), axis=1)\n",
    "    hh_pp_gpd = gpd.GeoDataFrame(piped_hh, crs=tanker_shp.crs, geometry=\"geometry\")\n",
    "    hh_larger_than_zero = hh_pp_gpd[hh_pp_gpd['units_size']>0]\n",
    "\n",
    "    ### combine total dataframe with gw water ratio\n",
    "    hh_larger_than_zero2 = hh_larger_than_zero.merge(urban_cwatm_gw, on =['x','y'],how=\"left\")\n",
    "    hh_larger_than_zero2.replace([np.inf, -np.inf], np.nan, inplace=True)\n",
    "    hh_larger_than_zero3=hh_larger_than_zero2.fillna(0)\n",
    "    return hh_larger_than_zero3"
   ]
  },
  {
   "cell_type": "code",
   "execution_count": 23,
   "metadata": {
    "collapsed": true
   },
   "outputs": [],
   "source": [
    "cellarea_file_path = basepath + r\"/modules/hydro/hydro_files/netcdfs/cellArea.nc\"\n",
    "cellarea = xr.open_dataarray(cellarea_file_path)\n",
    "\n",
    "adminsegs_df_urban = pd.read_csv(\n",
    "        basepath + r'/modules/hydro/hydro_inputs/landsurface/waterDemand/adminsegs_Pune_Solapur.csv')\n",
    "adminsegs = xr.open_dataarray(\n",
    "        basepath + r'/modules/hydro/hydro_inputs/landsurface/waterDemand/2020-10-14_Agents.nc')\n",
    "adminsegs_df = adminsegs.to_dataframe().reset_index().round({'lon': 4, 'lat': 4})\n",
    "\n",
    "lat_lon = pd.read_excel(basepath + r'/modules/hydro/hydro_files/lat_lon.xlsx', sheet_name='lat_lon')"
   ]
  },
  {
   "cell_type": "code",
   "execution_count": 25,
   "metadata": {
    "collapsed": true
   },
   "outputs": [],
   "source": [
    "tanker_shp = gpd.read_file(basepath + r\"/modules/hydro/hydro_files/shapefiles/tanker/tanker.shp\")\n",
    "Pune_shp = gpd.read_file(basepath + r\"/modules/hydro/hydro_files/shapefiles/PMC_Boundary/PMC_PCMC_Ward_Bounda_Outer.shp\")"
   ]
  },
  {
   "cell_type": "code",
   "execution_count": 26,
   "metadata": {},
   "outputs": [
    {
     "data": {
      "text/html": [
       "<pre style=\"white-space:pre;overflow-x:auto;line-height:normal;font-family:Menlo,'DejaVu Sans Mono',consolas,'Courier New',monospace\"><span style=\"color: #008080; text-decoration-color: #008080; font-weight: bold\">64</span>\n",
       "</pre>\n"
      ],
      "text/plain": [
       "\u001b[1;36m64\u001b[0m\n"
      ]
     },
     "metadata": {},
     "output_type": "display_data"
    },
    {
     "name": "stderr",
     "output_type": "stream",
     "text": [
      "/home/users/awan005/.local/lib/python3.6/site-packages/numpy/core/_asarray.py:83: VisibleDeprecationWarning: Creating an ndarray from ragged nested sequences (which is a list-or-tuple of lists-or-tuples-or ndarrays with different lengths or shapes) is deprecated. If you meant to do this, you must specify 'dtype=object' when creating the ndarray\n",
      "  return array(a, dtype, copy=False, order=order)\n"
     ]
    }
   ],
   "source": [
    "import psutil\n",
    "\n",
    "nbrCores= psutil.cpu_count(logical=False)\n",
    "print(str(nbrCores))\n",
    "\n",
    "jobs = distrib_task(0,len(NonIrr_GW_path_tt)-1,nbrCores)\n",
    "\n",
    "it = (int(j) for j in range(len(NonIrr_GW_path_tt)))\n",
    "\n",
    "df_ratio = parallel(urban_cwatm_ratio,it,nbrCores)"
   ]
  },
  {
   "cell_type": "markdown",
   "metadata": {},
   "source": [
    "### Vulnerability"
   ]
  },
  {
   "cell_type": "code",
   "execution_count": 27,
   "metadata": {
    "collapsed": true
   },
   "outputs": [],
   "source": [
    "def water_vulnerability(threshold, df, var):\n",
    "    hh_smaller_than_100 = df[df[var]<=threshold]\n",
    "    percent = np.sum(hh_smaller_than_100['units_size'])/np.sum(df['units_size'])*100\n",
    "    return percent"
   ]
  },
  {
   "cell_type": "code",
   "execution_count": 28,
   "metadata": {
    "collapsed": true
   },
   "outputs": [],
   "source": [
    "up_urban_ssp1 = 10870 # upper 10%\n",
    "up_urban_ssp3 = 7122 # upper 10%\n",
    "down_urban_ssp1 = 2848 # lower 10%\n",
    "down_urban_ssp3 = 1830 # lower 10%"
   ]
  },
  {
   "cell_type": "code",
   "execution_count": 29,
   "metadata": {
    "collapsed": true
   },
   "outputs": [],
   "source": [
    "def vulnerability_rich_poor_mid(i):\n",
    "    \"\"\"\n",
    "    We define vulnerability as below 40 lpcd. \n",
    "    Since values above 40 are capped at 40 in the model under some interventions, \n",
    "    we code vulnerability as ≤39 lpcd to avoid misclassifying capped overuse as vulnerable\n",
    "    \"\"\"\n",
    "    \n",
    "    p = pd.DataFrame(df_ratio[i], columns=[\"x\", \"y\", \"units\", \"size\", \"income\",\"piped_m3/mo\", \"well_m3/mo\", \"tanker_m3/mo\",\"tanker_tier2_m3/mo\",\n",
    "                 \"electr_kWh/mo\", \"food_INR/mo\", \"electr_for_water_kWh/mo\",\n",
    "                 \"total_water_m3/mo\", \"non_piped_m3/mo\", \"non_piped_percent\",\n",
    "                 \"electr_for_water_per_unit\", \"piped_per_unit\", \"well_per_unit\",\n",
    "                 \"non_piped_per_unit\", \"non_piped_pct_per_unit\", \"total_water_per_unit\",\n",
    "                 \"piped_expenditure_per_unit\", \"well_expenditure_per_unit\",\n",
    "                 \"tanker_expenditure_per_unit\",\"tanker_tier2_expenditure_per_unit\", \"expenditure_per_unit\",\n",
    "                 \"electricity price\", \"electricity expenditure\",\"well type\", 'hh_income', 'category', 'units_size', 'income_pp',\n",
    "                 'index_x', 'sw_m3', 'sw', 'ratio', 'geometry', 'tanker_ratio','tanker_tier2_ratio',\n",
    "                 'index_y', 'gw_m3', 'gw', 'ratio_gw'])\n",
    "\n",
    "\n",
    "    p['piped_water_lpcd_percapita'] = p['piped_m3/mo']/p['units_size']*1000/30.417\n",
    "    p['tanker_water_lpcd_percapita'] = p['tanker_m3/mo']/p['units_size']*1000/30.417\n",
    "    p['well_water_lpcd_percapita'] = p['well_m3/mo']/p['units_size']*1000/30.417\n",
    "    p['tanker_tier2_water_lpcd_percapita'] = p['tanker_tier2_m3/mo']/p['units_size']*1000/30.417\n",
    "    \n",
    "    \n",
    "    p['cwatm_piped_water_lpcd_percapita'] = p['piped_water_lpcd_percapita'] * p['ratio']\n",
    "    p['cwatm_well_water_lpcd_percapita'] = p['well_water_lpcd_percapita'] * p['ratio_gw']\n",
    "    \n",
    "    p['cwatm_tanker_water_lpcd_percapita_rural'] = p['tanker_water_lpcd_percapita'] * p['ratio_gw']\n",
    "    p['cwatm_tanker_water_lpcd_percapita_urban'] = p['tanker_water_lpcd_percapita'] \n",
    "    p['cwatm_tanker_tier2_water_lpcd_percapita_urban'] = p['tanker_tier2_water_lpcd_percapita'] \n",
    "    \n",
    "    p['cwatm_total_water_lpcd_percapita_urban'] = p['cwatm_piped_water_lpcd_percapita'] +  p['cwatm_well_water_lpcd_percapita'] +p['cwatm_tanker_water_lpcd_percapita_urban'] + p['cwatm_tanker_tier2_water_lpcd_percapita_urban']\n",
    "    p['cwatm_total_water_lpcd_percapita_rural'] = p['cwatm_piped_water_lpcd_percapita'] +  p['cwatm_well_water_lpcd_percapita'] +p['cwatm_tanker_water_lpcd_percapita_rural']\n",
    "\n",
    "    p['cwatm_piped_water_m3/mo'] = p['piped_m3/mo'] * p['ratio']\n",
    "    p['cwatm_well_water_m3/mo'] = p['well_m3/mo'] * p['ratio_gw']\n",
    "\n",
    "    p_gpd = gpd.GeoDataFrame(p, crs=Pune_shp.crs, geometry=\"geometry\")\n",
    "\n",
    "    gpd_pune = gpd.sjoin(p_gpd, Pune_shp[['geometry']],op=\"within\")\n",
    "\n",
    "    p_gpd1 = p_gpd[~p_gpd.index.isin(gpd_pune.index)]\n",
    "    rural_gpd = p_gpd1\n",
    "    urban_gpd = gpd_pune\n",
    "\n",
    "\n",
    "    if (NonIrr_GW_path_tt[i].split('/')[-3].split('_')[2] == 'scenario1') or (NonIrr_GW_path_tt[i].split('/')[-3].split('_')[2] == 'scenario2'):        \n",
    "        up_urban = up_urban_ssp1\n",
    "        down = down_urban_ssp1\n",
    "    if (NonIrr_GW_path_tt[i].split('/')[-3].split('_')[2] == 'scenario3') or (NonIrr_GW_path_tt[i].split('/')[-3].split('_')[2] == 'scenario4'):        \n",
    "        up_urban = up_urban_ssp3\n",
    "        down = down_urban_ssp3\n",
    "        \n",
    "    up_rural = rural_gpd.income_pp.max()/2 - 1561\n",
    "    urban_rich = urban_gpd[urban_gpd['income_pp']>=up_urban]\n",
    "    urban_poor = urban_gpd[urban_gpd['income_pp']<=down]\n",
    "    urban_mid = urban_gpd[urban_gpd['income_pp']>down][urban_gpd[urban_gpd['income_pp']>down]['income_pp']<up_urban]\n",
    "    rural_rich = rural_gpd[rural_gpd['income_pp']>=up_rural]\n",
    "    rural_poor = rural_gpd[rural_gpd['income_pp']<=down]\n",
    "    rural_mid = rural_gpd[rural_gpd['income_pp']>down][rural_gpd[rural_gpd['income_pp']>down]['income_pp']<up_rural]\n",
    "    \n",
    "    return water_vulnerability(39,urban_rich, 'cwatm_total_water_lpcd_percapita_urban'), water_vulnerability(39,urban_poor,'cwatm_total_water_lpcd_percapita_urban'),water_vulnerability(39,urban_mid, 'cwatm_total_water_lpcd_percapita_urban'),water_vulnerability(39,rural_rich,'cwatm_total_water_lpcd_percapita_rural'),water_vulnerability(39,rural_poor,'cwatm_total_water_lpcd_percapita_rural'), water_vulnerability(39,rural_mid,'cwatm_total_water_lpcd_percapita_rural')\n"
   ]
  },
  {
   "cell_type": "code",
   "execution_count": 30,
   "metadata": {},
   "outputs": [
    {
     "data": {
      "text/html": [
       "<pre style=\"white-space:pre;overflow-x:auto;line-height:normal;font-family:Menlo,'DejaVu Sans Mono',consolas,'Courier New',monospace\"><span style=\"color: #008080; text-decoration-color: #008080; font-weight: bold\">64</span>\n",
       "</pre>\n"
      ],
      "text/plain": [
       "\u001b[1;36m64\u001b[0m\n"
      ]
     },
     "metadata": {},
     "output_type": "display_data"
    }
   ],
   "source": [
    "import psutil\n",
    "\n",
    "nbrCores= psutil.cpu_count(logical=False)\n",
    "print(str(nbrCores))\n",
    "\n",
    "jobs = distrib_task(0,len(NonIrr_GW_path_tt)-1,nbrCores)\n",
    "\n",
    "it = (int(j) for j in range(len(NonIrr_GW_path_tt)))\n",
    "\n",
    "vul_urbanrich, vul_urbanpoor,vul_urbanmid, vul_ruralrich, vul_ruralpoor,vul_ruralmid= parallel(vulnerability_rich_poor_mid,it,nbrCores)"
   ]
  },
  {
   "cell_type": "markdown",
   "metadata": {},
   "source": [
    "### Stress duration"
   ]
  },
  {
   "cell_type": "code",
   "execution_count": 31,
   "metadata": {
    "collapsed": true
   },
   "outputs": [],
   "source": [
    "def runs_of_ones_array(bits):\n",
    "    # make sure all runs of ones are well-bounded\n",
    "    bounded = np.hstack(([0], bits, [0]))\n",
    "    # get 1 at run starts and -1 at run ends\n",
    "    difs = np.diff(bounded)\n",
    "    run_starts, = np.where(difs > 0)\n",
    "    run_ends, = np.where(difs < 0)\n",
    "    return run_ends - run_starts\n",
    "\n",
    "def duration(df):\n",
    "    df['duration'] = 0\n",
    "    for j in range(df.shape[0]):\n",
    "        x = runs_of_ones_array(df.iloc[j,2+12*(i-1):2+12*i])\n",
    "        x = 0 if x.size==0 else x\n",
    "        rich.loc[j,'duration'] = np.nanmax(x) \n",
    "    item = np.sum((rich.iloc[:,-1] * rich.iloc[:,1]))/np.sum(rich.iloc[:,1])"
   ]
  },
  {
   "cell_type": "code",
   "execution_count": 32,
   "metadata": {
    "collapsed": true
   },
   "outputs": [],
   "source": [
    "def water_stress(threshold, df0, var):\n",
    "    df = df0.copy()\n",
    "    df.loc[df[var]>threshold, 'vul'] = 0\n",
    "    df.loc[df[var]<=threshold, 'vul'] = 1\n",
    "    return df[['x','y','category','units_size','vul']]"
   ]
  },
  {
   "cell_type": "code",
   "execution_count": 33,
   "metadata": {
    "collapsed": true
   },
   "outputs": [],
   "source": [
    "def stress_duration_vul(i): \n",
    "    \"\"\"\n",
    "    We define stress duration as duration of water use below 40 lpcd. \n",
    "    Since values above 40 are capped at 40 in the model under some interventions, \n",
    "    we code it as ≤39 lpcd to avoid misclassifying capped overuse as vulnerable\n",
    "    \"\"\"\n",
    "    \n",
    "    p = pd.DataFrame(df_ratio[i], columns=[\"x\", \"y\", \"units\", \"size\", \"income\",\"piped_m3/mo\", \"well_m3/mo\", \"tanker_m3/mo\",\"tanker_tier2_m3/mo\",\n",
    "                 \"electr_kWh/mo\", \"food_INR/mo\", \"electr_for_water_kWh/mo\",\n",
    "                 \"total_water_m3/mo\", \"non_piped_m3/mo\", \"non_piped_percent\",\n",
    "                 \"electr_for_water_per_unit\", \"piped_per_unit\", \"well_per_unit\",\n",
    "                 \"non_piped_per_unit\", \"non_piped_pct_per_unit\", \"total_water_per_unit\",\n",
    "                 \"piped_expenditure_per_unit\", \"well_expenditure_per_unit\",\n",
    "                 \"tanker_expenditure_per_unit\",\"tanker_tier2_expenditure_per_unit\", \"expenditure_per_unit\",\n",
    "                 \"electricity price\", \"electricity expenditure\",\"well type\", 'hh_income', 'category', 'units_size', 'income_pp',\n",
    "                 'index_x', 'sw_m3', 'sw', 'ratio', 'geometry', 'tanker_ratio','tanker_tier2_ratio',\n",
    "                 'index_y', 'gw_m3', 'gw', 'ratio_gw'])\n",
    "\n",
    "    p['piped_water_lpcd_percapita'] = p['piped_m3/mo']/p['units_size']*1000/30.417\n",
    "    p['tanker_water_lpcd_percapita'] = p['tanker_m3/mo']/p['units_size']*1000/30.417\n",
    "    p['well_water_lpcd_percapita'] = p['well_m3/mo']/p['units_size']*1000/30.417\n",
    "    p['tanker_tier2_water_lpcd_percapita'] = p['tanker_tier2_m3/mo']/p['units_size']*1000/30.417\n",
    "\n",
    "    p['cwatm_piped_water_lpcd_percapita'] = p['piped_water_lpcd_percapita'] * p['ratio']\n",
    "    p['cwatm_well_water_lpcd_percapita'] = p['well_water_lpcd_percapita'] * p['ratio_gw']\n",
    "    p['cwatm_tanker_water_lpcd_percapita_rural'] = p['tanker_water_lpcd_percapita'] * p['ratio_gw']\n",
    "    p['cwatm_tanker_water_lpcd_percapita_urban'] = p['tanker_water_lpcd_percapita'] \n",
    "    p['cwatm_tanker_tier2_water_lpcd_percapita_urban'] = p['tanker_tier2_water_lpcd_percapita'] \n",
    "\n",
    "    p['cwatm_total_water_lpcd_percapita_urban'] = p['cwatm_piped_water_lpcd_percapita'] +  p['cwatm_well_water_lpcd_percapita'] +p['cwatm_tanker_water_lpcd_percapita_urban'] + p['cwatm_tanker_tier2_water_lpcd_percapita_urban']\n",
    "    p['cwatm_total_water_lpcd_percapita_rural'] = p['cwatm_piped_water_lpcd_percapita'] +  p['cwatm_well_water_lpcd_percapita'] +p['cwatm_tanker_water_lpcd_percapita_rural']\n",
    "    \n",
    "    p['cwatm_piped_water_m3/mo'] = p['piped_m3/mo'] * p['ratio']\n",
    "    p['cwatm_well_water_m3/mo'] = p['well_m3/mo'] * p['ratio_gw']\n",
    "\n",
    "    p_gpd = gpd.GeoDataFrame(p, crs=Pune_shp.crs, geometry=\"geometry\")\n",
    "\n",
    "    gpd_pune = gpd.sjoin(p_gpd, Pune_shp[['geometry']],op=\"within\")\n",
    "    \n",
    "    p_gpd1 = p_gpd[~p_gpd.index.isin(gpd_pune.index)]\n",
    "    rural_gpd = p_gpd1 \n",
    "    urban_gpd = gpd_pune\n",
    "\n",
    "    if (NonIrr_GW_path_tt[i].split('/')[-3].split('_')[2] == 'scenario1') or (NonIrr_GW_path_tt[i].split('/')[-3].split('_')[2] == 'scenario2'):        \n",
    "        up_urban = up_urban_ssp1\n",
    "        down = down_urban_ssp1\n",
    "    if (NonIrr_GW_path_tt[i].split('/')[-3].split('_')[2] == 'scenario3') or (NonIrr_GW_path_tt[i].split('/')[-3].split('_')[2] == 'scenario4'):        \n",
    "        up_urban = up_urban_ssp3\n",
    "        down = down_urban_ssp3 \n",
    "    \n",
    "    up_rural = rural_gpd.income_pp.max()/2 - 1561\n",
    "    urban_rich = urban_gpd[urban_gpd['income_pp']>=up_urban]\n",
    "    urban_poor = urban_gpd[urban_gpd['income_pp']<=down]\n",
    "    urban_mid = urban_gpd[urban_gpd['income_pp']>down][urban_gpd[urban_gpd['income_pp']>down]['income_pp']<up_urban]\n",
    "    rural_rich = rural_gpd[rural_gpd['income_pp']>=up_rural]\n",
    "    rural_poor = rural_gpd[rural_gpd['income_pp']<=down]\n",
    "    rural_mid = rural_gpd[rural_gpd['income_pp']>down][rural_gpd[rural_gpd['income_pp']>down]['income_pp']<up_rural]\n",
    "       \n",
    "    return water_stress(39,urban_rich, 'cwatm_total_water_lpcd_percapita_urban'), water_stress(39,urban_poor,'cwatm_total_water_lpcd_percapita_urban'),water_stress(39,urban_mid, 'cwatm_total_water_lpcd_percapita_urban'),water_stress(39,rural_rich,'cwatm_total_water_lpcd_percapita_rural'),water_stress(39,rural_poor,'cwatm_total_water_lpcd_percapita_rural'), water_stress(39,rural_mid,'cwatm_total_water_lpcd_percapita_rural')\n"
   ]
  },
  {
   "cell_type": "code",
   "execution_count": 34,
   "metadata": {},
   "outputs": [
    {
     "data": {
      "text/html": [
       "<pre style=\"white-space:pre;overflow-x:auto;line-height:normal;font-family:Menlo,'DejaVu Sans Mono',consolas,'Courier New',monospace\"><span style=\"color: #008080; text-decoration-color: #008080; font-weight: bold\">64</span>\n",
       "</pre>\n"
      ],
      "text/plain": [
       "\u001b[1;36m64\u001b[0m\n"
      ]
     },
     "metadata": {},
     "output_type": "display_data"
    },
    {
     "name": "stderr",
     "output_type": "stream",
     "text": [
      "/home/users/awan005/.local/lib/python3.6/site-packages/numpy/core/_asarray.py:83: VisibleDeprecationWarning: Creating an ndarray from ragged nested sequences (which is a list-or-tuple of lists-or-tuples-or ndarrays with different lengths or shapes) is deprecated. If you meant to do this, you must specify 'dtype=object' when creating the ndarray\n",
      "  return array(a, dtype, copy=False, order=order)\n"
     ]
    }
   ],
   "source": [
    "import psutil\n",
    "\n",
    "nbrCores= psutil.cpu_count(logical=False)\n",
    "print(str(nbrCores))\n",
    "\n",
    "jobs = distrib_task(0,len(NonIrr_GW_path_tt)-1,nbrCores)\n",
    "\n",
    "it = (int(j) for j in range(len(NonIrr_GW_path_tt)))\n",
    "\n",
    "Urbanrich, Urbanpoor,Urbanmid, Ruralrich, Ruralpoor,Ruralmid= parallel(stress_duration_vul,it,nbrCores)"
   ]
  },
  {
   "cell_type": "code",
   "execution_count": 35,
   "metadata": {
    "collapsed": true
   },
   "outputs": [],
   "source": [
    "urbanrich_mid = pd.concat([pd.DataFrame(Urbanrich[i],columns=['x','y','category','units_size','vul']).set_index(['x','y','category'])[~pd.DataFrame(Urbanrich[i],columns=['x','y','category','units_size','vul']).set_index(['x','y','category']).index.duplicated()] for i in range(len(NonIrr_GW_path_tt))], ignore_index=False, axis=1)\n",
    "urbanpoor_mid = pd.concat([pd.DataFrame(Urbanpoor[i],columns=['x','y','category','units_size','vul']).set_index(['x','y','category'])[~pd.DataFrame(Urbanpoor[i],columns=['x','y','category','units_size','vul']).set_index(['x','y','category']).index.duplicated()] for i in range(len(NonIrr_GW_path_tt))], ignore_index=False, axis=1)\n",
    "urbanmid_mid = pd.concat([pd.DataFrame(Urbanmid[i],columns=['x','y','category','units_size','vul']).set_index(['x','y','category'])[~pd.DataFrame(Urbanmid[i],columns=['x','y','category','units_size','vul']).set_index(['x','y','category']).index.duplicated()] for i in range(len(NonIrr_GW_path_tt))], ignore_index=False, axis=1)\n",
    "\n",
    "ruralrich_mid = pd.concat([pd.DataFrame(Ruralrich[i],columns=['x','y','category','units_size','vul']).set_index(['x','y','category'])[~pd.DataFrame(Ruralrich[i],columns=['x','y','category','units_size','vul']).set_index(['x','y','category']).index.duplicated()] for i in range(len(NonIrr_GW_path_tt))], ignore_index=False, axis=1)\n",
    "ruralpoor_mid = pd.concat([pd.DataFrame(Ruralpoor[i],columns=['x','y','category','units_size','vul']).set_index(['x','y','category'])[~pd.DataFrame(Ruralpoor[i],columns=['x','y','category','units_size','vul']).set_index(['x','y','category']).index.duplicated()] for i in range(len(NonIrr_GW_path_tt))], ignore_index=False, axis=1)\n",
    "ruralmid_mid = pd.concat([pd.DataFrame(Ruralmid[i],columns=['x','y','category','units_size','vul']).set_index(['x','y','category'])[~pd.DataFrame(Ruralmid[i],columns=['x','y','category','units_size','vul']).set_index(['x','y','category']).index.duplicated()] for i in range(len(NonIrr_GW_path_tt))], ignore_index=False, axis=1)"
   ]
  },
  {
   "cell_type": "code",
   "execution_count": 36,
   "metadata": {
    "collapsed": true
   },
   "outputs": [],
   "source": [
    "def runs_of_ones_array(bits):\n",
    "    # make sure all runs of ones are well-bounded\n",
    "    bounded = np.hstack(([0], bits, [0]))\n",
    "    # get 1 at run starts and -1 at run ends\n",
    "    difs = np.diff(bounded)\n",
    "    run_starts, = np.where(difs > 0)\n",
    "    run_ends, = np.where(difs < 0)\n",
    "    return run_ends - run_starts\n",
    "\n",
    "def stress_duration2(df0):\n",
    "    stress = []\n",
    "    \n",
    "    for i in range(1, 1+np.int(np.floor(len(NonIrr_GW_path_tt)/12)),1):\n",
    "        df=df0.iloc[:,np.append(24*i-24, np.arange(1,len(NonIrr_GW_path_tt)*2,2))].reset_index().copy()\n",
    "        df['duration'] = 0\n",
    "        for j in range(df.shape[0]):\n",
    "            x = runs_of_ones_array(df.iloc[j,4+12*(i-1):4+12*i].fillna(0))\n",
    "            x = 0 if x.size==0 else x\n",
    "            df.loc[j,'duration'] = np.nanmax(x) \n",
    "        item = np.sum((df.iloc[:,-1] * df.loc[:,'units_size']))/np.sum(df.loc[:,'units_size'])\n",
    "        stress.append(item)\n",
    "    return stress"
   ]
  },
  {
   "cell_type": "code",
   "execution_count": 37,
   "metadata": {},
   "outputs": [
    {
     "data": {
      "text/html": [
       "<pre style=\"white-space:pre;overflow-x:auto;line-height:normal;font-family:Menlo,'DejaVu Sans Mono',consolas,'Courier New',monospace\"><span style=\"color: #008080; text-decoration-color: #008080; font-weight: bold\">64</span>\n",
       "</pre>\n"
      ],
      "text/plain": [
       "\u001b[1;36m64\u001b[0m\n"
      ]
     },
     "metadata": {},
     "output_type": "display_data"
    }
   ],
   "source": [
    "import psutil\n",
    "\n",
    "nbrCores= psutil.cpu_count(logical=False)\n",
    "print(str(nbrCores))\n",
    "\n",
    "jobs = distrib_task(0,len(NonIrr_GW_path_tt)-1,nbrCores)\n",
    "\n",
    "it = (j for j in [urbanrich_mid, urbanpoor_mid, urbanmid_mid,ruralrich_mid, ruralpoor_mid, ruralmid_mid])\n",
    "\n",
    "dur_urbanrich,dur_urbanpoor,dur_urbanmid,dur_ruralrich,dur_ruralpoor,dur_ruralmid= parallel(stress_duration2,it,nbrCores)"
   ]
  },
  {
   "cell_type": "markdown",
   "metadata": {},
   "source": [
    "### Gini coefficient"
   ]
  },
  {
   "cell_type": "code",
   "execution_count": 38,
   "metadata": {
    "collapsed": true
   },
   "outputs": [],
   "source": [
    "def gini_coefficient_from_dataframe(df, col):\n",
    "    # Sort the DataFrame by the cumulative percentage of population\n",
    "    df_sort = df.copy()\n",
    "    df_sort.loc[:,'sort'] = df_sort.loc[:,col]\n",
    "    test = df_sort.sort_values(by=['sort']).reset_index().copy()\n",
    "    test.loc[:,'pop_cum'] = test.loc[:,'units_size'].cumsum()/test.loc[:,'units_size'].sum()\n",
    "    test.loc[:,'cum'] = (test.loc[:,col]*test.loc[:,'units_size']).cumsum()/(test.loc[:,col]*test.loc[:,'units_size']).sum()\n",
    "    \n",
    "    # Convert the DataFrame columns to numpy arrays\n",
    "    x_values = test[\"pop_cum\"].values\n",
    "    y_values = test['cum'].values\n",
    "\n",
    "    # Calculate the area between the Lorenz curve and the perfect equality line\n",
    "    area_between_curve = np.trapz(y_values, x=x_values)\n",
    "\n",
    "    # Calculate the area under the perfect equality line (the area of the triangle)\n",
    "    area_under_perfect_equality = 0.5\n",
    "\n",
    "    # Calculate the Gini coefficient\n",
    "    gini_coeff = (area_under_perfect_equality - area_between_curve) / area_under_perfect_equality\n",
    "    \n",
    "\n",
    "    return gini_coeff"
   ]
  },
  {
   "cell_type": "code",
   "execution_count": 39,
   "metadata": {
    "collapsed": true
   },
   "outputs": [],
   "source": [
    "def gini_income(i): \n",
    "    p = pd.DataFrame(df_ratio[i], columns=[\"x\", \"y\", \"units\", \"size\", \"income\",\"piped_m3/mo\", \"well_m3/mo\", \"tanker_m3/mo\",\"tanker_tier2_m3/mo\",\n",
    "                 \"electr_kWh/mo\", \"food_INR/mo\", \"electr_for_water_kWh/mo\",\n",
    "                 \"total_water_m3/mo\", \"non_piped_m3/mo\", \"non_piped_percent\",\n",
    "                 \"electr_for_water_per_unit\", \"piped_per_unit\", \"well_per_unit\",\n",
    "                 \"non_piped_per_unit\", \"non_piped_pct_per_unit\", \"total_water_per_unit\",\n",
    "                 \"piped_expenditure_per_unit\", \"well_expenditure_per_unit\",\n",
    "                 \"tanker_expenditure_per_unit\",\"tanker_tier2_expenditure_per_unit\", \"expenditure_per_unit\",\n",
    "                 \"electricity price\", \"electricity expenditure\",\"well type\", 'hh_income', 'category', 'units_size', 'income_pp',\n",
    "                 'index_x', 'sw_m3', 'sw', 'ratio', 'geometry', 'tanker_ratio','tanker_tier2_ratio',\n",
    "                 'index_y', 'gw_m3', 'gw', 'ratio_gw'])\n",
    "\n",
    "    p['piped_water_lpcd_percapita'] = p['piped_m3/mo']/p['units_size']*1000/30.417\n",
    "    p['tanker_water_lpcd_percapita'] = p['tanker_m3/mo']/p['units_size']*1000/30.417\n",
    "    p['well_water_lpcd_percapita'] = p['well_m3/mo']/p['units_size']*1000/30.417\n",
    "    p['tanker_tier2_water_lpcd_percapita'] = p['tanker_tier2_m3/mo']/p['units_size']*1000/30.417\n",
    "\n",
    "    p['cwatm_piped_water_lpcd_percapita'] = p['piped_water_lpcd_percapita'] * p['ratio']\n",
    "    p['cwatm_well_water_lpcd_percapita'] = p['well_water_lpcd_percapita'] * p['ratio_gw']\n",
    "    p['cwatm_tanker_water_lpcd_percapita_rural'] = p['tanker_water_lpcd_percapita'] * p['ratio_gw']\n",
    "    p['cwatm_tanker_water_lpcd_percapita_urban'] = p['tanker_water_lpcd_percapita'] \n",
    "    p['cwatm_tanker_tier2_water_lpcd_percapita_urban'] = p['tanker_tier2_water_lpcd_percapita'] \n",
    "    \n",
    "    p['cwatm_total_water_lpcd_percapita_urban'] = p['cwatm_piped_water_lpcd_percapita'] +  p['cwatm_well_water_lpcd_percapita'] +p['cwatm_tanker_water_lpcd_percapita_urban'] + p['cwatm_tanker_tier2_water_lpcd_percapita_urban']\n",
    "    p['cwatm_total_water_lpcd_percapita_rural'] = p['cwatm_piped_water_lpcd_percapita'] +  p['cwatm_well_water_lpcd_percapita'] +p['cwatm_tanker_water_lpcd_percapita_rural']\n",
    "    \n",
    "    p['cwatm_piped_water_m3/mo'] = p['piped_m3/mo'] * p['ratio']\n",
    "    p['cwatm_well_water_m3/mo'] = p['well_m3/mo'] * p['ratio_gw']\n",
    "\n",
    "    p_gpd = gpd.GeoDataFrame(p, crs=Pune_shp.crs, geometry=\"geometry\")\n",
    "\n",
    "    gpd_pune = gpd.sjoin(p_gpd, Pune_shp[['geometry']],op=\"within\")\n",
    "\n",
    "    p_gpd1 = p_gpd[~p_gpd.index.isin(gpd_pune.index)]\n",
    "    rural_gpd = p_gpd1 \n",
    "    urban_gpd = gpd_pune\n",
    "\n",
    "\n",
    "    if (NonIrr_GW_path_tt[i].split('/')[-3].split('_')[2] == 'scenario1') or (NonIrr_GW_path_tt[i].split('/')[-3].split('_')[2] == 'scenario2'):        \n",
    "        up_urban = up_urban_ssp1\n",
    "        down = down_urban_ssp1\n",
    "    if (NonIrr_GW_path_tt[i].split('/')[-3].split('_')[2] == 'scenario3') or (NonIrr_GW_path_tt[i].split('/')[-3].split('_')[2] == 'scenario4'):        \n",
    "        up_urban = up_urban_ssp3\n",
    "        down = down_urban_ssp3\n",
    "    \n",
    "    up_rural = rural_gpd.income_pp.max()/2 - 1561\n",
    "    urban_rich = urban_gpd[urban_gpd['income_pp']>=up_urban]\n",
    "    urban_poor = urban_gpd[urban_gpd['income_pp']<=down]\n",
    "    urban_mid = urban_gpd[urban_gpd['income_pp']>down][urban_gpd[urban_gpd['income_pp']>down]['income_pp']<up_urban]\n",
    "    rural_rich = rural_gpd[rural_gpd['income_pp']>=up_rural]\n",
    "    rural_poor = rural_gpd[rural_gpd['income_pp']<=down]\n",
    "    rural_mid = rural_gpd[rural_gpd['income_pp']>down][rural_gpd[rural_gpd['income_pp']>down]['income_pp']<up_rural]\n",
    "\n",
    "    gini_urban=gini_coefficient_from_dataframe(urban_gpd,'cwatm_total_water_lpcd_percapita_urban')\n",
    "    gini_urbanpiped=gini_coefficient_from_dataframe(urban_gpd,'cwatm_piped_water_lpcd_percapita')    \n",
    "    gini_urbanwell=gini_coefficient_from_dataframe(urban_gpd,'cwatm_well_water_lpcd_percapita')    \n",
    "    gini_urbantanker1=gini_coefficient_from_dataframe(urban_gpd,'cwatm_tanker_water_lpcd_percapita_urban')  \n",
    "    gini_urbantanker2=gini_coefficient_from_dataframe(urban_gpd,'cwatm_tanker_tier2_water_lpcd_percapita_urban')     \n",
    "\n",
    "    return gini_urban, gini_urbanpiped, gini_urbanwell, gini_urbantanker1, gini_urbantanker2"
   ]
  },
  {
   "cell_type": "code",
   "execution_count": 40,
   "metadata": {},
   "outputs": [
    {
     "data": {
      "text/html": [
       "<pre style=\"white-space:pre;overflow-x:auto;line-height:normal;font-family:Menlo,'DejaVu Sans Mono',consolas,'Courier New',monospace\"><span style=\"color: #008080; text-decoration-color: #008080; font-weight: bold\">64</span>\n",
       "</pre>\n"
      ],
      "text/plain": [
       "\u001b[1;36m64\u001b[0m\n"
      ]
     },
     "metadata": {},
     "output_type": "display_data"
    }
   ],
   "source": [
    "import psutil\n",
    "\n",
    "nbrCores= psutil.cpu_count(logical=False)\n",
    "print(str(nbrCores))\n",
    "\n",
    "jobs = distrib_task(0,len(NonIrr_GW_path_tt)-1,nbrCores)\n",
    "\n",
    "it = (int(j) for j in range(len(NonIrr_GW_path_tt)))\n",
    "\n",
    "Gini_urban, Gini_urbanpiped, Gini_urbanwell, Gini_urbantanker1, Gini_urbantanker2= parallel(gini_income,it,nbrCores)"
   ]
  },
  {
   "cell_type": "markdown",
   "metadata": {},
   "source": [
    "### Sectoral water use"
   ]
  },
  {
   "cell_type": "code",
   "execution_count": 41,
   "metadata": {
    "collapsed": true
   },
   "outputs": [],
   "source": [
    "def regional_water_use_lpcd_rich_mid_poor(i):\n",
    "    p = pd.DataFrame(df_ratio[i], columns=[\"x\", \"y\", \"units\", \"size\", \"income\",\"piped_m3/mo\", \"well_m3/mo\", \"tanker_m3/mo\",\"tanker_tier2_m3/mo\",\n",
    "                 \"electr_kWh/mo\", \"food_INR/mo\", \"electr_for_water_kWh/mo\",\n",
    "                 \"total_water_m3/mo\", \"non_piped_m3/mo\", \"non_piped_percent\",\n",
    "                 \"electr_for_water_per_unit\", \"piped_per_unit\", \"well_per_unit\",\n",
    "                 \"non_piped_per_unit\", \"non_piped_pct_per_unit\", \"total_water_per_unit\",\n",
    "                 \"piped_expenditure_per_unit\", \"well_expenditure_per_unit\",\n",
    "                 \"tanker_expenditure_per_unit\",\"tanker_tier2_expenditure_per_unit\", \"expenditure_per_unit\",\n",
    "                 \"electricity price\", \"electricity expenditure\",\"well type\", 'hh_income', 'category', 'units_size', 'income_pp',\n",
    "                 'index_x', 'sw_m3', 'sw', 'ratio', 'geometry', 'tanker_ratio','tanker_tier2_ratio',\n",
    "                 'index_y', 'gw_m3', 'gw', 'ratio_gw'])\n",
    "\n",
    "    p['piped_water_lpcd_percapita'] = p['piped_m3/mo']/p['units_size']*1000/30.417\n",
    "    p['tanker_water_lpcd_percapita'] = p['tanker_m3/mo']/p['units_size']*1000/30.417\n",
    "    p['tanker_tier2_water_lpcd_percapita'] = p['tanker_tier2_m3/mo']/p['units_size']*1000/30.417\n",
    "    p['well_water_lpcd_percapita'] = p['well_m3/mo']/p['units_size']*1000/30.417\n",
    "\n",
    "    p['cwatm_piped_water_lpcd_percapita'] = p['piped_water_lpcd_percapita'] * p['ratio']\n",
    "    p['cwatm_well_water_lpcd_percapita'] = p['well_water_lpcd_percapita'] * p['ratio_gw']\n",
    "    p['cwatm_tanker_water_lpcd_percapita_rural'] = p['tanker_water_lpcd_percapita'] * p['ratio_gw']\n",
    "    p['cwatm_tanker_water_lpcd_percapita_urban'] = p['tanker_water_lpcd_percapita'] + p['tanker_tier2_water_lpcd_percapita'] \n",
    "    \n",
    "    p['cwatm_piped_water_m3/mo'] = p['piped_m3/mo'] * p['ratio']\n",
    "    p['cwatm_well_water_m3/mo'] = p['well_m3/mo'] * p['ratio_gw']\n",
    "    \n",
    "    p['cwatm_total_water_lpcd_percapita_urban'] = p['cwatm_piped_water_lpcd_percapita'] +  p['cwatm_well_water_lpcd_percapita'] +p['cwatm_tanker_water_lpcd_percapita_urban']\n",
    "\n",
    "    p_gpd = gpd.GeoDataFrame(p, crs=Pune_shp.crs, geometry=\"geometry\")\n",
    "\n",
    "    gpd_pune = gpd.sjoin(p_gpd, Pune_shp[['geometry']],op=\"within\")\n",
    "\n",
    "    p_gpd1 = p_gpd[~p_gpd.index.isin(gpd_pune.index)]\n",
    "    rural_gpd = p_gpd1 \n",
    "    urban_gpd = gpd_pune\n",
    "    \n",
    "\n",
    "    if (NonIrr_GW_path_tt[i].split('/')[-3].split('_')[2] == 'scenario1') or (NonIrr_GW_path_tt[i].split('/')[-3].split('_')[2] == 'scenario2'):        \n",
    "        up_urban = up_urban_ssp1\n",
    "        down = down_urban_ssp1\n",
    "    if (NonIrr_GW_path_tt[i].split('/')[-3].split('_')[2] == 'scenario3') or (NonIrr_GW_path_tt[i].split('/')[-3].split('_')[2] == 'scenario4'):        \n",
    "        up_urban = up_urban_ssp3\n",
    "        down = down_urban_ssp3\n",
    "    \n",
    "    urban_rich = urban_gpd[urban_gpd['income_pp']>=up_urban]\n",
    "    urban_poor = urban_gpd[urban_gpd['income_pp']<=down]\n",
    "    urban_mid = urban_gpd[urban_gpd['income_pp']>down][urban_gpd[urban_gpd['income_pp']>down]['income_pp']<up_urban]\n",
    "\n",
    "    piped_urbanrich, piped_urbanpoor,piped_urbanmid = (np.sum(df.loc[:,'units_size'] *df.loc[:,'cwatm_piped_water_lpcd_percapita'])/np.sum(df.loc[:,'units_size']) for df in (urban_rich,urban_poor,urban_mid))\n",
    "    well_hh_urbanrich, well_urbanpoor, well_urbanmid  = (np.sum(df.loc[:,'units_size'] *df.loc[:,'cwatm_well_water_lpcd_percapita'])/np.sum(df.loc[:,'units_size']) for df in (urban_rich,urban_poor,urban_mid))\n",
    "    tanker_urbanrich, tanker_urbanpoor,tanker_urbanmid = (np.sum(df.loc[:,'units_size'] *df.loc[:,'cwatm_tanker_water_lpcd_percapita_urban'])/np.sum(df.loc[:,'units_size']) for df in (urban_rich,urban_poor,urban_mid))\n",
    "    tanker_tier2_urbanrich, tanker_tier2_urbanpoor, tanker_tier2_urbanmid = (np.sum(df.loc[:,'units_size'] *df.loc[:,'cwatm_total_water_lpcd_percapita_urban'])/np.sum(df.loc[:,'units_size']) for df in (urban_rich,urban_poor,urban_mid))\n",
    "\n",
    "    return piped_urbanrich, piped_urbanpoor,piped_urbanmid, well_hh_urbanrich, well_urbanpoor, well_urbanmid, tanker_urbanrich, tanker_urbanpoor,tanker_urbanmid,tanker_tier2_urbanrich, tanker_tier2_urbanpoor,tanker_tier2_urbanmid\n"
   ]
  },
  {
   "cell_type": "code",
   "execution_count": 42,
   "metadata": {},
   "outputs": [
    {
     "data": {
      "text/html": [
       "<pre style=\"white-space:pre;overflow-x:auto;line-height:normal;font-family:Menlo,'DejaVu Sans Mono',consolas,'Courier New',monospace\"><span style=\"color: #008080; text-decoration-color: #008080; font-weight: bold\">64</span>\n",
       "</pre>\n"
      ],
      "text/plain": [
       "\u001b[1;36m64\u001b[0m\n"
      ]
     },
     "metadata": {},
     "output_type": "display_data"
    }
   ],
   "source": [
    "import psutil\n",
    "\n",
    "nbrCores= psutil.cpu_count(logical=False)\n",
    "print(str(nbrCores))\n",
    "\n",
    "jobs = distrib_task(0,len(NonIrr_GW_path_tt)-1,nbrCores)\n",
    "\n",
    "it = (int(j) for j in range(len(NonIrr_GW_path_tt)))\n",
    "\n",
    "Piped_urbanrich, Piped_urbanpoor,Piped_urbanmid, Well_hh_urbanrich, Well_urbanpoor, Well_urbanmid, Tanker_urbanrich, Tanker_urbanpoor,Tanker_urbanmid, Tanker_tier2_urbanrich, Tanker_tier2_urbanpoor,Tanker_tier2_urbanmid= parallel(regional_water_use_lpcd_rich_mid_poor,it,nbrCores)"
   ]
  },
  {
   "cell_type": "markdown",
   "metadata": {},
   "source": [
    "### save output"
   ]
  },
  {
   "cell_type": "code",
   "execution_count": 60,
   "metadata": {
    "collapsed": true
   },
   "outputs": [],
   "source": [
    "vul = [[np.mean(df[12*i:12*i+12]) for i in range(0,int(len(NonIrr_GW_path_tt)/12),1)] for df in (vul_urbanrich, vul_urbanpoor,vul_urbanmid,vul_ruralrich, vul_ruralpoor,vul_ruralmid)]\n",
    "gini = [[np.mean(df[12*i:12*i+12]) for i in range(0,int(len(NonIrr_GW_path_tt)/12),1)] for df in [Gini_urban, Gini_urbanpiped, Gini_urbanwell, Gini_urbantanker1, Gini_urbantanker2]]\n",
    "stress = [df for df in (dur_urbanrich,dur_urbanpoor,dur_urbanmid,dur_ruralrich,dur_ruralpoor,dur_ruralmid)]\n",
    "use = [[np.mean(df[12*i:12*i+12]) for i in range(0,int(len(NonIrr_GW_path_tt)/12),1)] for df in (Piped_urbanrich, Piped_urbanpoor,Piped_urbanmid,\n",
    "                                                                     Well_hh_urbanrich, Well_urbanpoor, Well_urbanmid,\n",
    "                                                                     Tanker_urbanrich, Tanker_urbanpoor,Tanker_urbanmid,\n",
    "                                                                     Tanker_tier2_urbanrich, Tanker_tier2_urbanpoor, Tanker_tier2_urbanmid)]"
   ]
  },
  {
   "cell_type": "code",
   "execution_count": 62,
   "metadata": {
    "collapsed": true
   },
   "outputs": [],
   "source": [
    "basepath = r\"/scratch/users/awan005/bhima_mas_code\"\n",
    "path = basepath + r\"/outputs/data_processed/strategic_intervention_combination\" +\"/\"\n",
    "pd.DataFrame([vul[0],vul[2],vul[1],vul[3],vul[5],vul[4]]).set_index([pd.Index(['rich','mid','poor','rich','mid','poor'])]).to_csv(path + r\"vul_strategic_combination.csv\")\n",
    "pd.DataFrame([gini[0],gini[1],gini[2],gini[3],gini[4]]).set_index([pd.Index(['total','piped','well','tanker1','tanker2'])]).to_csv(path + r\"gini_strategic_combination.csv\")\n",
    "pd.DataFrame([stress[0],stress[2],stress[1],stress[3],stress[5],stress[4]]).set_index([pd.Index(['rich','mid','poor','rich','mid','poor'])]).to_csv(path + r\"stress_strategic_combination.csv\")\n",
    "pd.DataFrame([use[0],use[2],use[1],use[3],use[5],use[4],use[6],use[8],use[7],use[9],use[11],use[10]]).set_index([pd.Index(['piped_rich','piped_mid','piped_poor','well_rich','well_mid','well_poor','tanker_rich','tanker_mid','tanker_poor','tanker_rich','tanker_mid','tanker_poor'])]).to_csv(path + r\"use_strategic_combination.csv\")"
   ]
  }
 ],
 "metadata": {
  "kernelspec": {
   "display_name": "Python 3",
   "language": "python",
   "name": "python3"
  },
  "language_info": {
   "codemirror_mode": {
    "name": "ipython",
    "version": 3
   },
   "file_extension": ".py",
   "mimetype": "text/x-python",
   "name": "python",
   "nbconvert_exporter": "python",
   "pygments_lexer": "ipython3",
   "version": "3.6.1"
  }
 },
 "nbformat": 4,
 "nbformat_minor": 2
}
